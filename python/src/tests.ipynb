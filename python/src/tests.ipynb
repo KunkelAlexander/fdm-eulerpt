{
 "cells": [
  {
   "cell_type": "markdown",
   "metadata": {},
   "source": [
    "### Special functions\n"
   ]
  },
  {
   "cell_type": "code",
   "execution_count": 5,
   "metadata": {},
   "outputs": [],
   "source": [
    "import special_functions as sf\n",
    "\n",
    "import numpy as np\n",
    "import scipy.special as sc\n",
    "\n",
    "assert np.isclose(sf.jv(-2.5, .1),    sf.test_jv(.1))\n",
    "assert np.isclose(sf.jv(-2.5, np.pi), sf.test_jv(np.pi))\n",
    "assert sc.jv(2.5, 10) == sf.jv(2.5, 10)\n",
    "assert sc.jv(-2.5, 10) == sf.jv(-2.5, 10)\n",
    "assert sc.jvp(2.5, 10) == sf.jvp(2.5, 10)\n",
    "assert sc.jvp(-2.5, 10) == sf.jvp(-2.5, 10)\n",
    "assert np.isclose(sf.jv_taylor(2.5, .1), sc.jv(-2.5, .1))\n"
   ]
  },
  {
   "cell_type": "markdown",
   "metadata": {},
   "source": [
    "### Cosmology"
   ]
  },
  {
   "cell_type": "code",
   "execution_count": 1,
   "metadata": {},
   "outputs": [],
   "source": [
    "import constants \n",
    "import numpy as np \n",
    "\n",
    "def dhubble(a):\n",
    "    da = 1e-8 \n",
    "    return (constants.hubble(a + da) - constants.hubble(a - da))/(2*da)\n",
    "\n",
    "for a in np.random.rand(10):\n",
    "    np.isclose(constants.dloghubble(a), dhubble(a)/constants.hubble(a))"
   ]
  },
  {
   "cell_type": "markdown",
   "metadata": {},
   "source": [
    "### Growth factors\n"
   ]
  },
  {
   "cell_type": "code",
   "execution_count": 6,
   "metadata": {},
   "outputs": [
    {
     "name": "stderr",
     "output_type": "stream",
     "text": [
      "/home/xerox/anaconda3/lib/python3.8/site-packages/scipy/integrate/_ivp/common.py:39: UserWarning: The following arguments have no effect for a chosen solver: `jac`.\n",
      "  warn(\"The following arguments have no effect for a chosen solver: {}.\"\n"
     ]
    }
   ],
   "source": [
    "import fdm.growth.analytical\n",
    "import fdm.growth.numerical\n",
    "import fdm.growth.suppressed_cdm\n",
    "import cdm.growth.analytical\n",
    "import cdm.growth.numerical\n",
    "import constants\n",
    "import numpy as np\n",
    "# Independent check whether D is correct\n",
    "k = 1e-3\n",
    "eta = 0.5\n",
    "a = 0.6293\n",
    "a_in = 0.121383\n",
    "m = 1e-23\n",
    "\n",
    "assert np.isclose(fdm.growth.analytical.D(k, eta, m), fdm.growth.analytical.D_lague(\n",
    "    k, constants.a_from_eta(eta), constants.a_from_eta(constants.ETA_IN), m))\n"
   ]
  },
  {
   "cell_type": "markdown",
   "metadata": {},
   "source": [
    "Compare against analytical CDM solutions for $\\Omega_m = 1$ in CDM limit (large k)\n",
    "\n",
    "Requires setting \"OMEGA_M_GROWTH = 1.0\" in constants.py\n"
   ]
  },
  {
   "cell_type": "code",
   "execution_count": 11,
   "metadata": {},
   "outputs": [],
   "source": [
    "assert np.isclose(cdm.growth.analytical.D_plus(k, a, a_in, m),  a/a_in)\n",
    "assert np.isclose(cdm.growth.numerical.D_plus(k, a, a_in, m),\n",
    "                  cdm.growth.analytical.D_plus(k, a, a_in, m),  rtol=1e-4)\n",
    "assert np.isclose(fdm.growth.numerical.D_plus(k, a, a_in, m),\n",
    "                  cdm.growth.analytical.D_plus(k, a, a_in, m),  rtol=1e-4)\n",
    "assert np.isclose(fdm.growth.suppressed_cdm.D_plus(\n",
    "    k, a, a_in, m),  cdm.growth.analytical.D_plus(k, a, a_in, m),  rtol=1e-4)\n",
    "\n",
    "assert np.isclose(cdm.growth.analytical.D_minus(\n",
    "    k, a, a_in, m), (a/a_in)**(-3/2))\n",
    "assert np.isclose(cdm.growth.numerical.D_minus(k, a, a_in, m),\n",
    "                  cdm.growth.analytical.D_minus(k, a, a_in, m), rtol=1e-4)\n",
    "assert np.isclose(fdm.growth.numerical.D_minus(k, a, a_in, m),\n",
    "                  cdm.growth.analytical.D_minus(k, a, a_in, m), rtol=1e-2)\n",
    "assert np.isclose(fdm.growth.suppressed_cdm.D_minus(\n",
    "    k, a, a_in, m),  cdm.growth.analytical.D_minus(k, a, a_in, m), rtol=1e-2)\n",
    "\n",
    "assert np.isclose(cdm.growth.analytical.dD_plus(k, a, a_in, m),  1/a_in)\n",
    "assert np.isclose(cdm.growth.numerical.dD_plus(k, a, a_in, m),\n",
    "                  cdm.growth.analytical.dD_plus(k, a, a_in, m),  rtol=1e-4)\n",
    "assert np.isclose(fdm.growth.numerical.dD_plus(k, a, a_in, m),\n",
    "                  cdm.growth.analytical.dD_plus(k, a, a_in, m),  rtol=1e-4)\n",
    "assert np.isclose(fdm.growth.suppressed_cdm.dD_plus(\n",
    "    k, a, a_in, m),  cdm.growth.analytical.dD_plus(k, a, a_in, m),  rtol=1e-4)\n",
    "\n",
    "assert np.isclose(cdm.growth.analytical.dD_minus(\n",
    "    k, a, a_in, m), -3/2*a**(-5/2)*(1/a_in)**(-3/2))\n",
    "assert np.isclose(cdm.growth.numerical.dD_minus(k, a, a_in, m),\n",
    "                  cdm.growth.analytical.dD_minus(k, a, a_in, m), rtol=1e-4)\n",
    "assert np.isclose(fdm.growth.numerical.dD_minus(k, a, a_in, m),\n",
    "                  cdm.growth.analytical.dD_minus(k, a, a_in, m), rtol=1e-2)\n",
    "assert np.isclose(fdm.growth.suppressed_cdm.dD_minus(\n",
    "    k, a, a_in, m),  cdm.growth.analytical.dD_minus(k, a, a_in, m), rtol=1e-2)\n",
    "\n",
    "assert np.isclose(cdm.growth.analytical.ddD_plus(k, a, a_in, m),  0)\n",
    "assert np.isclose(cdm.growth.numerical.ddD_plus(k, a, a_in, m),\n",
    "                  cdm.growth.analytical.ddD_plus(k, a, a_in, m),  rtol=1e-4)\n",
    "assert np.isclose(fdm.growth.numerical.ddD_plus(k, a, a_in, m),\n",
    "                  cdm.growth.analytical.ddD_plus(k, a, a_in, m),  atol=1e-2)\n",
    "assert np.isclose(fdm.growth.suppressed_cdm.ddD_plus(\n",
    "    k, a, a_in, m),  cdm.growth.analytical.ddD_plus(k, a, a_in, m),  atol=1e-6)\n",
    "\n",
    "assert np.isclose(cdm.growth.analytical.ddD_minus(\n",
    "    k, a, a_in, m), -3/2*(-5/2)*a**(-7/2)*(1/a_in)**(-3/2))\n",
    "assert np.isclose(cdm.growth.numerical.ddD_minus(k, a, a_in, m),\n",
    "                  cdm.growth.analytical.ddD_minus(k, a, a_in, m), rtol=1e-4)\n",
    "assert np.isclose(fdm.growth.numerical.ddD_minus(k, a, a_in, m),\n",
    "                  cdm.growth.analytical.ddD_minus(k, a, a_in, m), rtol=1e-2)\n",
    "assert np.isclose(fdm.growth.suppressed_cdm.ddD_minus(\n",
    "    k, a, a_in, m),  cdm.growth.analytical.ddD_minus(k, a, a_in, m), rtol=1e-2)\n"
   ]
  },
  {
   "cell_type": "code",
   "execution_count": 3,
   "metadata": {},
   "outputs": [
    {
     "name": "stderr",
     "output_type": "stream",
     "text": [
      "/home/xerox/anaconda3/lib/python3.8/site-packages/scipy/integrate/_ivp/common.py:39: UserWarning: The following arguments have no effect for a chosen solver: `jac`.\n",
      "  warn(\"The following arguments have no effect for a chosen solver: {}.\"\n"
     ]
    }
   ],
   "source": [
    "import constants as c \n",
    "import cdm.growth.numerical as cgn\n",
    "import fdm.growth.numerical as fgn\n",
    "import numpy as np\n",
    "\n",
    "\n",
    "om = 0.3\n",
    "og = 1-om\n",
    "\n",
    "def h(a):\n",
    "    return c.H0_SI_HUBBLE * np.sqrt(om*a**(-3) + og*a**(-2))\n",
    "\n",
    "def logh(a):\n",
    "    da = 1e-8\n",
    "    return (np.log(h(a + da)) - np.log(h(a - da)))/(2*da)\n",
    "\n",
    "a_s_cdm, D1_cdm, dD1_cdm, D2_cdm, dD2_cdm, temp1_cdm, temp2_cdm = cgn.numerical_CDM_D(a_in = 0.01, hubble = h, dlogHubble = logh, omega_m = om)\n",
    "D1_fdm, dD1_fdm, D2_fdm, dD2_fdm, temp1_fdm, temp2_fdm = fgn.numerical_D(k = 1e-3, a_in = 0.01, m = 1e-23, hubble = h, dlogHubble = logh, omega_m = om)\n",
    "\n",
    "\n",
    "def anap(a):\n",
    "    #return a\n",
    "    #return a/0.01 \n",
    "    x = a*(1/om - 1)\n",
    "    res = 1 + 3/x + 3*np.sqrt((1+x)/x**3) * np.log(np.sqrt(1 + x) - np.sqrt(x))\n",
    "    return res \n",
    "\n",
    "def anam(a):\n",
    "    #return h(a)\n",
    "    x = a*(1/om - 1)\n",
    "    return np.sqrt((1 + x)/x**3)\n",
    "    #return (a/0.01)**(-3/2)\n",
    "\n",
    "for i, a in enumerate(a_s_cdm):\n",
    "    np.isclose(anap(a)/anap(0.01), D1_cdm[i])\n",
    "    np.isclose(anam(a)/anap(0.01), D2_cdm[i])\n",
    "    np.isclose(anap(a)/anap(0.01), D1_fdm[i])\n",
    "    np.isclose(anam(a)/anap(0.01), D2_fdm[i])"
   ]
  },
  {
   "cell_type": "markdown",
   "metadata": {},
   "source": [
    "### Propagators\n"
   ]
  },
  {
   "cell_type": "code",
   "execution_count": 1,
   "metadata": {},
   "outputs": [
    {
     "name": "stderr",
     "output_type": "stream",
     "text": [
      "/home/xerox/anaconda3/lib/python3.8/site-packages/scipy/integrate/_ivp/common.py:39: UserWarning: The following arguments have no effect for a chosen solver: `jac`.\n",
      "  warn(\"The following arguments have no effect for a chosen solver: {}.\"\n"
     ]
    }
   ],
   "source": [
    "import cdm.couplings.analytical\n",
    "import cdm.couplings.numerical\n",
    "import fdm.couplings.analytical\n",
    "import fdm.couplings.suppressed_cdm\n",
    "import fdm.couplings.numerical\n",
    "import numpy as np\n",
    "\n",
    "s, eta = 0.1782, 0.4872\n",
    "m = 1e-23\n",
    "k = 1e-3  # in this limit FDM behaves like CDM\n",
    "\n",
    "\n",
    "def naive_propagator(s, eta):\n",
    "    return 1/5 * (1/s * eta**2 - 1/eta**3 * s**4)\n",
    "\n",
    "\n",
    "assert np.isclose(cdm.couplings.analytical.G(k, s, eta, m),     naive_propagator(s, eta))\n",
    "assert np.isclose(cdm.couplings.numerical.G(k, s, eta, m),      naive_propagator(s, eta))\n",
    "assert np.isclose(fdm.couplings.analytical.G(k, s, eta, m),     naive_propagator(s, eta))\n",
    "assert np.isclose(fdm.couplings.suppressed_cdm.G(k, s, eta, m), naive_propagator(s, eta))\n",
    "assert np.isclose(fdm.couplings.suppressed_cdm.G(k, s, eta, m), naive_propagator(s, eta))\n",
    "assert np.isclose(fdm.couplings.numerical.G(k, s, eta, m),      naive_propagator(s, eta), rtol=4)\n"
   ]
  },
  {
   "cell_type": "code",
   "execution_count": 2,
   "metadata": {},
   "outputs": [],
   "source": [
    "def d_s_naive_propagator(s, eta):\n",
    "    return 1/5 * (-1/s**2 * eta**2 - 4/eta**3 * s**3)\n",
    "\n",
    "\n",
    "assert np.isclose(cdm.couplings.analytical.ds_G(k, s, eta, m),         d_s_naive_propagator(s, eta))\n",
    "assert np.isclose(cdm.couplings.numerical.ds_G(k, s, eta, m),          d_s_naive_propagator(s, eta), rtol=4)\n",
    "assert np.isclose(fdm.couplings.analytical.ds_G(k, s, eta, m),         d_s_naive_propagator(s, eta))\n",
    "assert np.isclose(fdm.couplings.suppressed_cdm.ds_G(    k, s, eta, m), d_s_naive_propagator(s, eta))\n",
    "assert np.isclose(fdm.couplings.suppressed_cdm.ds_G(    k, s, eta, m), d_s_naive_propagator(s, eta))\n",
    "assert np.isclose(fdm.couplings.numerical.ds_G(k, s, eta, m),          d_s_naive_propagator(s, eta), rtol=4)\n"
   ]
  },
  {
   "cell_type": "code",
   "execution_count": 3,
   "metadata": {},
   "outputs": [],
   "source": [
    "def d_eta_naive_propagator(s, eta):\n",
    "    return 1/5 * (2/s * eta + 3/eta**4 * s**4)\n",
    "\n",
    "\n",
    "assert np.isclose(cdm.couplings.analytical.deta_G(k, s, eta, m),     d_eta_naive_propagator(s, eta))\n",
    "assert np.isclose(cdm.couplings.numerical.deta_G(k, s, eta, m),      d_eta_naive_propagator(s, eta), rtol=4)\n",
    "assert np.isclose(fdm.couplings.analytical.deta_G(k, s, eta, m),     d_eta_naive_propagator(s, eta))\n",
    "assert np.isclose(fdm.couplings.suppressed_cdm.deta_G(k, s, eta, m), d_eta_naive_propagator(s, eta))\n",
    "assert np.isclose(fdm.couplings.suppressed_cdm.deta_G(k, s, eta, m), d_eta_naive_propagator(s, eta))\n",
    "assert np.isclose(fdm.couplings.numerical.deta_G(k, s, eta, m),      d_eta_naive_propagator(s, eta), rtol=4)\n"
   ]
  },
  {
   "cell_type": "code",
   "execution_count": 4,
   "metadata": {},
   "outputs": [],
   "source": [
    "def d_seta_naive_propagator(s, eta):\n",
    "    return 1/5 * (-2/s**2 * eta + 12/eta**4 * s**3)\n",
    "\n",
    "\n",
    "assert np.isclose(cdm.couplings.analytical.dseta_G(k, s, eta, m),     d_seta_naive_propagator(s, eta))\n",
    "assert np.isclose(cdm.couplings.numerical.dseta_G(k, s, eta, m),      d_seta_naive_propagator(s, eta), rtol=4)\n",
    "assert np.isclose(fdm.couplings.analytical.dseta_G(k, s, eta, m),     d_seta_naive_propagator(s, eta))\n",
    "assert np.isclose(fdm.couplings.suppressed_cdm.dseta_G(k, s, eta, m), d_seta_naive_propagator(s, eta))\n",
    "assert np.isclose(fdm.couplings.suppressed_cdm.dseta_G(k, s, eta, m), d_seta_naive_propagator(s, eta))\n",
    "assert np.isclose(fdm.couplings.numerical.dseta_G(k, s, eta, m),      d_seta_naive_propagator(s, eta), rtol=4)\n"
   ]
  },
  {
   "cell_type": "code",
   "execution_count": 5,
   "metadata": {},
   "outputs": [],
   "source": [
    "import constants\n",
    "\n",
    "\n",
    "def f1(s, eta):\n",
    "    a = constants.a_from_eta(s)\n",
    "    b = constants.a_from_eta(eta)\n",
    "    return a/b\n",
    "\n",
    "\n",
    "assert np.isclose(cdm.couplings.analytical.    f1(k, s, eta, m), f1(s, eta))\n",
    "assert np.isclose(cdm.couplings.numerical.     f1(\n",
    "    k, s, eta, m), f1(s, eta), rtol=4)\n",
    "assert np.isclose(fdm.couplings.analytical.    f1(k, s, eta, m), f1(s, eta))\n",
    "assert np.isclose(fdm.couplings.suppressed_cdm.f1(k, s, eta, m), f1(s, eta))\n",
    "assert np.isclose(fdm.couplings.suppressed_cdm.f1(k, s, eta, m), f1(s, eta))\n",
    "assert np.isclose(fdm.couplings.numerical.     f1(\n",
    "    k, s, eta, m), f1(s, eta), rtol=4)\n"
   ]
  },
  {
   "cell_type": "code",
   "execution_count": 6,
   "metadata": {},
   "outputs": [],
   "source": [
    "import constants\n",
    "\n",
    "\n",
    "def f2(s, eta):\n",
    "    a = constants.a_from_eta(s)\n",
    "    b = constants.a_from_eta(eta)\n",
    "    return -np.sqrt(a)/b\n",
    "\n",
    "\n",
    "assert np.isclose(cdm.couplings.analytical.    f2(k, s, eta, m), f2(s, eta))\n",
    "assert np.isclose(cdm.couplings.numerical.     f2(\n",
    "    k, s, eta, m), f2(s, eta), rtol=4)\n",
    "assert np.isclose(fdm.couplings.analytical.    f2(k, s, eta, m), f2(s, eta))\n",
    "assert np.isclose(fdm.couplings.suppressed_cdm.f2(k, s, eta, m), f2(s, eta))\n",
    "assert np.isclose(fdm.couplings.suppressed_cdm.f2(k, s, eta, m), f2(s, eta))\n",
    "assert np.isclose(fdm.couplings.numerical.     f2(\n",
    "    k, s, eta, m), f2(s, eta), rtol=4)\n"
   ]
  },
  {
   "cell_type": "markdown",
   "metadata": {},
   "source": [
    "### Check symmetries of FDM mode coupling\n"
   ]
  },
  {
   "cell_type": "code",
   "execution_count": 18,
   "metadata": {},
   "outputs": [
    {
     "name": "stdout",
     "output_type": "stream",
     "text": [
      "Do not compute initial spectrum using CAMB\n"
     ]
    }
   ],
   "source": [
    "import fdm.p1l\n",
    "import numpy as np\n",
    "import itertools\n",
    "import constants as c\n",
    "k1 = np.random.rand(1, 3).flatten()\n",
    "k2 = np.random.rand(1, 3).flatten()\n",
    "k3 = np.random.rand(1, 3).flatten()\n",
    "k4 = np.random.rand(1, 3).flatten()\n",
    "\n",
    "p1 = np.array([0.08660254,  0.,         -0.05])\n",
    "p2 = np.array([-0.08660254, -0.,         -0.05])\n",
    "\n",
    "m = 1e-23\n",
    "m_t = m\n",
    "s_t = 0.4\n",
    "s1_t = 0.3\n",
    "s2_t = 0.2\n",
    "s3_t = 0.1\n",
    "eta_t = 0.5\n",
    "eta = eta_t\n",
    "\n",
    "# symmetrise functions of three momenta by permuting arguments and normalising\n",
    "\n",
    "\n",
    "def symmetrize3(k1, k2, k3, s, s2, eta, m, func):\n",
    "    res = 0\n",
    "    for k1_, k2_, k3_ in itertools.permutations([k1, k2, k3]):\n",
    "        res += func(k1_, k2_, k3_, s, s2, eta, m)\n",
    "    return res/6\n",
    "\n",
    "# symmetrise functions of three momenta by permuting arguments and normalising\n",
    "\n",
    "\n",
    "def symmetrize3_onearg(k1, k2, k3, s, eta, m, func):\n",
    "    res = 0\n",
    "    for k1_, k2_, k3_ in itertools.permutations([k1, k2, k3]):\n",
    "        res += func(k1_, k2_, k3_, s, eta, m)\n",
    "    return res/6\n",
    "\n",
    "# symmetrise functions of four momenta by permuting arguments and normalising\n",
    "\n",
    "\n",
    "def symmetrize4(k1, k2, k3, k4, s, s2, s3, eta, m, func):\n",
    "    res = 0\n",
    "    for k1_, k2_, k3_, k4_ in itertools.permutations([k1, k2, k3, k4]):\n",
    "        res += func(k1_, k2_, k3_, k4_, s, s2, s3, eta, m)\n",
    "    return res/24\n",
    "\n",
    "\n",
    "# symmetrise functions of four momenta by permuting arguments and normalising\n",
    "def symmetrize4_threeargs(k1, k2, k3, k4, s, s1, s2, s3, eta, m, func):\n",
    "    res = 0\n",
    "    for k1_, k2_, k3_, k4_ in itertools.permutations([k1, k2, k3, k4]):\n",
    "        res += func(k1_, k2_, k3_, k4_, s, s1, s2, s3, eta, m)\n",
    "    return res/24\n",
    "\n",
    "# symmetrise functions of four momenta by permuting arguments and normalising\n",
    "\n",
    "\n",
    "def symmetrize4_onearg(k1, k2, k3, k4, s, eta, m, func):\n",
    "    res = 0\n",
    "    for k1_, k2_, k3_, k4_ in itertools.permutations([k1, k2, k3, k4]):\n",
    "        res += func(k1_, k2_, k3_, k4_, s, eta, m)\n",
    "    return res/24\n",
    "\n",
    "    # symmetrise functions of four momenta by permuting arguments and normalising\n",
    "\n",
    "\n",
    "def symmetrize4_twoargs(k1, k2, k3, k4, s, s1, eta, m, func):\n",
    "    res = 0\n",
    "    for k1_, k2_, k3_, k4_ in itertools.permutations([k1, k2, k3, k4]):\n",
    "        res += func(k1_, k2_, k3_, k4_, s, s1, eta, m)\n",
    "    return res/24\n",
    "\n",
    "# Check symmetries of F2\n",
    "\n",
    "\n",
    "assert np.isclose(fdm.coupling.F2si(k1, k2, s_t, eta_t, m_t),\n",
    "                  fdm.coupling.F2si(k2, k1, s_t, eta_t, m_t))\n",
    "\n",
    "# Check symmetries of F3\n",
    "\n",
    "assert np.isclose(symmetrize3(k1, k3, k2, s_t, s2_t, eta_t, m_t,\n",
    "                  fdm.coupling.F3i), fdm.coupling.F3si(k1, k3, k2, s_t, s2_t, eta_t, m_t))\n",
    "assert np.isclose(fdm.coupling.F3s(k1, k2, k3, eta_t, m_t)[\n",
    "                  0], fdm.coupling.F3s(k3, k1, k2, eta_t, m_t)[0])\n",
    "\n",
    "# Check symmetries of C32\n",
    "\n",
    "assert np.isclose(symmetrize3_onearg(k1, k2, k3, s_t, eta_t, m,\n",
    "                  fdm.coupling.C32i), fdm.coupling.C32si(k1, k2, k3, s_t, eta_t, m))\n",
    "assert np.isclose(fdm.coupling.C32s(k1, k2, k3, eta_t, m)[\n",
    "                  0], fdm.coupling.C32s(k3, k1, k2, eta_t, m)[0])\n",
    "\n",
    "# Check symmetries of C41\n",
    "\n",
    "assert np.isclose(symmetrize4_onearg(k1, k2, k3, k4, s_t, eta_t, m,\n",
    "                  fdm.coupling.C41i), fdm.coupling.C41i(k1, k2, k3, k4, s_t, eta_t, m))\n",
    "assert np.isclose(fdm.coupling.C41s(k1, k2, k3, k4, eta_t, m)[\n",
    "                  0], fdm.coupling.C41s(k4, k1, k3, k2, eta_t, m)[0])\n",
    "\n",
    "# Check symmetries of C43\n",
    "\n",
    "# s1_t must be equal to s2_t for this symmetry to hold on the level of the integrands\n",
    "\n",
    "# Check symmetrisation\n",
    "assert np.isclose(symmetrize4(k1, k2, k3, k4, s_t, s1_t, s1_t, eta_t, m, fdm.coupling.C43i),\n",
    "                  fdm.coupling.C43si(k1, k2, k3, k4, s_t, s1_t, s1_t, eta_t,  m))\n",
    "# Check symmetry after integration\n",
    "assert np.isclose(fdm.coupling.C43s(k2, k4, k3, k1, eta_t, m)[\n",
    "                  0], fdm.coupling.C43s(k1, k2, k3, k4, eta_t, m)[0])\n",
    "\n",
    "# Check symmetries of C45\n",
    "\n",
    "assert np.isclose(symmetrize4(k1, k2, k3, k4, s_t, s1_t, s1_t, eta_t,  m,\n",
    "                  fdm.coupling.C45i), fdm.coupling.C45si(k1, k2, k3, k4, s_t, s1_t, s1_t, eta_t,  m))\n",
    "assert np.isclose(symmetrize4(k1, k2, k3, k4, s_t, s1_t, s1_t, eta_t, m, fdm.coupling.C45i),\n",
    "                  fdm.coupling.C45si(k1, k2, k3, k4, s_t, s1_t, s1_t, eta_t,  m))\n",
    "assert np.isclose(symmetrize4(k1, k2, k3, k4, s_t, s1_t, s1_t, eta_t, m, fdm.coupling.C45i),\n",
    "                  fdm.coupling.C45si(k1, k2, k3, k4, s_t, s1_t, s1_t, eta_t,  m))\n",
    "assert np.isclose(fdm.coupling.C45s(k1, k2, k3, k4, eta_t, m)[\n",
    "                  0], fdm.coupling.C45s(k4, k1, k3, k2, eta_t, m)[0])\n",
    "\n",
    "# Check symmetries of C42\n",
    "\n",
    "assert np.isclose(symmetrize4_twoargs(k1, k2, k3, k4, s_t, s2_t, eta_t, m,\n",
    "                  fdm.coupling.C42i), fdm.coupling.C42si(k1, k2, k3, k4, s_t, s2_t,  eta_t, m))\n",
    "assert np.isclose(fdm.coupling.C42s(k1, k2, k3, k4, eta_t, m)[\n",
    "                  0], fdm.coupling.C42s(k4, k1, k3, k2, eta_t, m)[0])\n",
    "assert np.isclose(symmetrize4_twoargs(k4, k2*22, k3, k1, .5, .8, eta, c.FDM_M, fdm.coupling.C42i_c_correct),\n",
    "                  symmetrize4_twoargs(k4, k2*22, k3, k1, .5, .8, eta, c.FDM_M, fdm.coupling.C42si))\n",
    "\n",
    "# Check symmetries of C44\n",
    "\n",
    "assert np.isclose(symmetrize4_twoargs(k1, k2, k3, k4, s_t, s2_t, eta_t, m,\n",
    "                  fdm.coupling.C44i), fdm.coupling.C44si(k1, k2, k3, k4, s_t, s2_t,  eta_t, m))\n",
    "assert np.isclose(fdm.coupling.C44s(k1, k2, k3, k4, eta_t, m)[\n",
    "                  0], fdm.coupling.C44s(k4, k1, k3, k2, eta_t, m)[0])\n"
   ]
  },
  {
   "cell_type": "markdown",
   "metadata": {},
   "source": [
    "### Compare equations for FDM mode-coupling F_i with analytical equations for analytical CDM mode-coupling\n"
   ]
  },
  {
   "cell_type": "code",
   "execution_count": 1,
   "metadata": {},
   "outputs": [
    {
     "data": {
      "text/plain": [
       "(2.001718840785454+/-0.00022114980243559266,\n",
       " 2.001886591652854+/-2.2225405867413772e-14,\n",
       " 2.0018865916528545)"
      ]
     },
     "execution_count": 1,
     "metadata": {},
     "output_type": "execute_result"
    }
   ],
   "source": [
    "import numpy as np\n",
    "import fdm.coupling\n",
    "import cdm.coupling\n",
    "import constants as c\n",
    "\n",
    "\n",
    "##########\n",
    "# REMEMBER\n",
    "##\n",
    "#   A_IN       = EPS\n",
    "#   A_FIN      = 1\n",
    "#   Z_IN       = z_from_a(A_IN)\n",
    "#   Z_FIN      = z_from_a(A_FIN)\n",
    "#   ETA_IN     = 0#eta_from_a(A_IN)\n",
    "#   ETA_FIN    = 2#eta_from_a(A_FIN)\n",
    "##\n",
    "###########\n",
    "\n",
    "k1 = np.random.rand(1, 3).flatten()\n",
    "k2 = np.random.rand(1, 3).flatten()\n",
    "k3 = np.random.rand(1, 3).flatten()\n",
    "k4 = np.random.rand(1, 3).flatten()\n",
    "eta = 2\n",
    "# fdm.coupling.F2si_vegas((2.958842824600041, 3.(3, k1, k2, 1, 1)\n",
    "fdm.coupling.F2s_vegas(k1, k2, eta, 0), fdm.coupling.F2s(k1, k2, eta, 0), cdm.coupling.F2s(k1, k2, eta)\n"
   ]
  },
  {
   "cell_type": "code",
   "execution_count": 15,
   "metadata": {},
   "outputs": [
    {
     "data": {
      "text/plain": [
       "5.657998969144345"
      ]
     },
     "execution_count": 15,
     "metadata": {},
     "output_type": "execute_result"
    }
   ],
   "source": [
    "cdm.coupling.F2s(k1, k2, 3)"
   ]
  },
  {
   "cell_type": "code",
   "execution_count": 10,
   "metadata": {},
   "outputs": [
    {
     "data": {
      "text/plain": [
       "0.01"
      ]
     },
     "execution_count": 10,
     "metadata": {},
     "output_type": "execute_result"
    }
   ],
   "source": [
    "c.a_from_z(99)"
   ]
  },
  {
   "cell_type": "code",
   "execution_count": 3,
   "metadata": {},
   "outputs": [
    {
     "name": "stderr",
     "output_type": "stream",
     "text": [
      "/home/xerox/anaconda3/lib/python3.8/site-packages/scipy/integrate/quadpack.py:879: IntegrationWarning: The integral is probably divergent, or slowly convergent.\n",
      "  quad_r = quad(f, low, high, args=args, full_output=self.full_output,\n"
     ]
    },
    {
     "data": {
      "text/plain": [
       "4.049546493029766+/-0.007466559742771247"
      ]
     },
     "execution_count": 3,
     "metadata": {},
     "output_type": "execute_result"
    }
   ],
   "source": [
    "fdm.coupling.F3s_nquad(k1, k2, k3, 2, 1)\n"
   ]
  },
  {
   "cell_type": "code",
   "execution_count": 4,
   "metadata": {},
   "outputs": [
    {
     "data": {
      "text/plain": [
       "4.061477870470135+/-0.00903672791462037"
      ]
     },
     "execution_count": 4,
     "metadata": {},
     "output_type": "execute_result"
    }
   ],
   "source": [
    "fdm.coupling.F3s_vegas(k1, k2, k3, 2, 1)\n"
   ]
  },
  {
   "cell_type": "markdown",
   "metadata": {},
   "source": [
    "(2.997307435522229e-09,\n",
    "(4.843036544622003, 1.0796008786083174e-13),\n",
    "4.843036544622008)\n"
   ]
  },
  {
   "cell_type": "code",
   "execution_count": 6,
   "metadata": {},
   "outputs": [],
   "source": [
    "import fdm.coupling\n",
    "import cdm.coupling\n",
    "\n",
    "import numpy as np\n",
    "import constants\n",
    "\n",
    "import matplotlib.pyplot as plt\n",
    "import pandas as pd\n",
    "\n",
    "N = 10\n",
    "m = 0\n",
    "eta = 2\n",
    "\n",
    "data = pd.DataFrame()\n",
    "\n",
    "for i in range(10):\n",
    "    k1 = np.random.rand(1, 3).flatten()\n",
    "    k2 = np.random.rand(1, 3).flatten()\n",
    "    k3 = np.random.rand(1, 3).flatten()\n",
    "    k4 = np.random.rand(1, 3).flatten()\n",
    "\n",
    "    datum = {}\n",
    "    datum[\"F2 ana\"]   = cdm.coupling.F2s(k1, k2, eta)\n",
    "    datum[\"F3 ana\"]   = cdm.coupling.F3s(k1, k2, k3, eta)\n",
    "    datum[\"F4 ana\"]   = cdm.coupling.F4s(k1, k2, k3, k4, eta)\n",
    "    datum[\"F2 nquad\"] = fdm.coupling.F2s(k1, k2, eta, m)\n",
    "    datum[\"F3 nquad\"] = fdm.coupling.F3s(k1, k2, k3, eta, m)\n",
    "    datum[\"F4 nquad\"] = fdm.coupling.F4s(k1, k2, k3, k4, eta, m)\n",
    "    datum[\"F2 vegas\"] = fdm.coupling.F2s_vegas(k1, k2, eta, m)\n",
    "    datum[\"F3 vegas\"] = fdm.coupling.F3s_vegas(k1, k2, k3, eta, m)\n",
    "    datum[\"F4 vegas\"] = fdm.coupling.F4s_vegas(k1, k2, k3, k4, eta, m)\n",
    "\n",
    "    data = data.append(datum, ignore_index=True)\n"
   ]
  },
  {
   "cell_type": "code",
   "execution_count": 8,
   "metadata": {},
   "outputs": [],
   "source": [
    "for i in range(2, 5):\n",
    "    i = str(i)\n",
    "    data[\"F\"+i+\" nquad absdiff\"] = data[\"F\"+i+\" ana\"] - data[\"F\"+i+\" nquad\"]\n",
    "    data[\"F\"+i+\" vegas absdiff\"] = data[\"F\"+i+\" ana\"] - data[\"F\"+i+\" vegas\"]\n",
    "    data[\"F\"+i+\" nquad reldiff\"] = data[\"F\"+i+\" nquad absdiff\"]/(data[\"F\"+i+\" ana\"])\n",
    "    data[\"F\"+i+\" vegas reldiff\"] = data[\"F\"+i+\" vegas absdiff\"]/(data[\"F\"+i+\" ana\"])"
   ]
  },
  {
   "cell_type": "code",
   "execution_count": 9,
   "metadata": {},
   "outputs": [
    {
     "data": {
      "text/html": [
       "<div>\n",
       "<style scoped>\n",
       "    .dataframe tbody tr th:only-of-type {\n",
       "        vertical-align: middle;\n",
       "    }\n",
       "\n",
       "    .dataframe tbody tr th {\n",
       "        vertical-align: top;\n",
       "    }\n",
       "\n",
       "    .dataframe thead th {\n",
       "        text-align: right;\n",
       "    }\n",
       "</style>\n",
       "<table border=\"1\" class=\"dataframe\">\n",
       "  <thead>\n",
       "    <tr style=\"text-align: right;\">\n",
       "      <th></th>\n",
       "      <th>F2 vegas reldiff</th>\n",
       "      <th>F2 vegas absdiff</th>\n",
       "      <th>F2 nquad absdiff</th>\n",
       "    </tr>\n",
       "  </thead>\n",
       "  <tbody>\n",
       "    <tr>\n",
       "      <th>0</th>\n",
       "      <td>-0.00007+/-0.00011</td>\n",
       "      <td>-0.00015+/-0.00023</td>\n",
       "      <td>(0.0+/-2.3)e-14</td>\n",
       "    </tr>\n",
       "    <tr>\n",
       "      <th>1</th>\n",
       "      <td>0.00003+/-0.00012</td>\n",
       "      <td>0.00006+/-0.00024</td>\n",
       "      <td>(0.0+/-2.2)e-14</td>\n",
       "    </tr>\n",
       "    <tr>\n",
       "      <th>2</th>\n",
       "      <td>-0.00015+/-0.00012</td>\n",
       "      <td>-0.00021+/-0.00017</td>\n",
       "      <td>(0.0+/-1.5)e-14</td>\n",
       "    </tr>\n",
       "    <tr>\n",
       "      <th>3</th>\n",
       "      <td>-0.00007+/-0.00013</td>\n",
       "      <td>-0.00011+/-0.00020</td>\n",
       "      <td>(0.0+/-1.8)e-14</td>\n",
       "    </tr>\n",
       "    <tr>\n",
       "      <th>4</th>\n",
       "      <td>-0.00002+/-0.00012</td>\n",
       "      <td>-0.00003+/-0.00023</td>\n",
       "      <td>(-0.0+/-2.1)e-14</td>\n",
       "    </tr>\n",
       "    <tr>\n",
       "      <th>5</th>\n",
       "      <td>0.00025+/-0.00012</td>\n",
       "      <td>0.00048+/-0.00023</td>\n",
       "      <td>(0.0+/-2.1)e-14</td>\n",
       "    </tr>\n",
       "    <tr>\n",
       "      <th>6</th>\n",
       "      <td>0.00006+/-0.00012</td>\n",
       "      <td>0.00010+/-0.00019</td>\n",
       "      <td>(0.0+/-1.7)e-14</td>\n",
       "    </tr>\n",
       "    <tr>\n",
       "      <th>7</th>\n",
       "      <td>-0.00003+/-0.00012</td>\n",
       "      <td>-0.00006+/-0.00024</td>\n",
       "      <td>(-0.0+/-2.1)e-14</td>\n",
       "    </tr>\n",
       "    <tr>\n",
       "      <th>8</th>\n",
       "      <td>0.00002+/-0.00012</td>\n",
       "      <td>0.00005+/-0.00025</td>\n",
       "      <td>(0.0+/-2.3)e-14</td>\n",
       "    </tr>\n",
       "    <tr>\n",
       "      <th>9</th>\n",
       "      <td>-0.00002+/-0.00012</td>\n",
       "      <td>-0.00003+/-0.00024</td>\n",
       "      <td>(-0.0+/-2.2)e-14</td>\n",
       "    </tr>\n",
       "  </tbody>\n",
       "</table>\n",
       "</div>"
      ],
      "text/plain": [
       "     F2 vegas reldiff    F2 vegas absdiff  F2 nquad absdiff\n",
       "0  -0.00007+/-0.00011  -0.00015+/-0.00023   (0.0+/-2.3)e-14\n",
       "1   0.00003+/-0.00012   0.00006+/-0.00024   (0.0+/-2.2)e-14\n",
       "2  -0.00015+/-0.00012  -0.00021+/-0.00017   (0.0+/-1.5)e-14\n",
       "3  -0.00007+/-0.00013  -0.00011+/-0.00020   (0.0+/-1.8)e-14\n",
       "4  -0.00002+/-0.00012  -0.00003+/-0.00023  (-0.0+/-2.1)e-14\n",
       "5   0.00025+/-0.00012   0.00048+/-0.00023   (0.0+/-2.1)e-14\n",
       "6   0.00006+/-0.00012   0.00010+/-0.00019   (0.0+/-1.7)e-14\n",
       "7  -0.00003+/-0.00012  -0.00006+/-0.00024  (-0.0+/-2.1)e-14\n",
       "8   0.00002+/-0.00012   0.00005+/-0.00025   (0.0+/-2.3)e-14\n",
       "9  -0.00002+/-0.00012  -0.00003+/-0.00024  (-0.0+/-2.2)e-14"
      ]
     },
     "execution_count": 9,
     "metadata": {},
     "output_type": "execute_result"
    }
   ],
   "source": [
    "data[[\"F2 vegas reldiff\", \"F2 vegas absdiff\", \"F2 nquad absdiff\"]]"
   ]
  },
  {
   "cell_type": "code",
   "execution_count": 10,
   "metadata": {},
   "outputs": [
    {
     "data": {
      "text/html": [
       "<div>\n",
       "<style scoped>\n",
       "    .dataframe tbody tr th:only-of-type {\n",
       "        vertical-align: middle;\n",
       "    }\n",
       "\n",
       "    .dataframe tbody tr th {\n",
       "        vertical-align: top;\n",
       "    }\n",
       "\n",
       "    .dataframe thead th {\n",
       "        text-align: right;\n",
       "    }\n",
       "</style>\n",
       "<table border=\"1\" class=\"dataframe\">\n",
       "  <thead>\n",
       "    <tr style=\"text-align: right;\">\n",
       "      <th></th>\n",
       "      <th>F3 vegas reldiff</th>\n",
       "      <th>F3 vegas absdiff</th>\n",
       "      <th>F3 nquad absdiff</th>\n",
       "    </tr>\n",
       "  </thead>\n",
       "  <tbody>\n",
       "    <tr>\n",
       "      <th>0</th>\n",
       "      <td>0.0013+/-0.0022</td>\n",
       "      <td>0.006+/-0.010</td>\n",
       "      <td>(0.0+/-1.0)e-13</td>\n",
       "    </tr>\n",
       "    <tr>\n",
       "      <th>1</th>\n",
       "      <td>-0.0016+/-0.0025</td>\n",
       "      <td>-0.007+/-0.011</td>\n",
       "      <td>(0.0+/-1.0)e-13</td>\n",
       "    </tr>\n",
       "    <tr>\n",
       "      <th>2</th>\n",
       "      <td>-0.0001+/-0.0022</td>\n",
       "      <td>-0.000+/-0.006</td>\n",
       "      <td>(0+/-6)e-14</td>\n",
       "    </tr>\n",
       "    <tr>\n",
       "      <th>3</th>\n",
       "      <td>-0.0003+/-0.0023</td>\n",
       "      <td>-0.001+/-0.008</td>\n",
       "      <td>(0+/-8)e-14</td>\n",
       "    </tr>\n",
       "    <tr>\n",
       "      <th>4</th>\n",
       "      <td>-0.0035+/-0.0023</td>\n",
       "      <td>-0.012+/-0.008</td>\n",
       "      <td>(0+/-8)e-14</td>\n",
       "    </tr>\n",
       "    <tr>\n",
       "      <th>5</th>\n",
       "      <td>0.0022+/-0.0023</td>\n",
       "      <td>0.009+/-0.010</td>\n",
       "      <td>(0+/-9)e-14</td>\n",
       "    </tr>\n",
       "    <tr>\n",
       "      <th>6</th>\n",
       "      <td>0.0003+/-0.0023</td>\n",
       "      <td>0.001+/-0.008</td>\n",
       "      <td>(-0+/-8)e-14</td>\n",
       "    </tr>\n",
       "    <tr>\n",
       "      <th>7</th>\n",
       "      <td>-0.0008+/-0.0023</td>\n",
       "      <td>-0.002+/-0.007</td>\n",
       "      <td>(0+/-7)e-14</td>\n",
       "    </tr>\n",
       "    <tr>\n",
       "      <th>8</th>\n",
       "      <td>0.0004+/-0.0024</td>\n",
       "      <td>0.002+/-0.011</td>\n",
       "      <td>(0.0+/-1.1)e-13</td>\n",
       "    </tr>\n",
       "    <tr>\n",
       "      <th>9</th>\n",
       "      <td>0.0004+/-0.0022</td>\n",
       "      <td>0.001+/-0.008</td>\n",
       "      <td>(0+/-9)e-14</td>\n",
       "    </tr>\n",
       "  </tbody>\n",
       "</table>\n",
       "</div>"
      ],
      "text/plain": [
       "   F3 vegas reldiff F3 vegas absdiff F3 nquad absdiff\n",
       "0   0.0013+/-0.0022    0.006+/-0.010  (0.0+/-1.0)e-13\n",
       "1  -0.0016+/-0.0025   -0.007+/-0.011  (0.0+/-1.0)e-13\n",
       "2  -0.0001+/-0.0022   -0.000+/-0.006      (0+/-6)e-14\n",
       "3  -0.0003+/-0.0023   -0.001+/-0.008      (0+/-8)e-14\n",
       "4  -0.0035+/-0.0023   -0.012+/-0.008      (0+/-8)e-14\n",
       "5   0.0022+/-0.0023    0.009+/-0.010      (0+/-9)e-14\n",
       "6   0.0003+/-0.0023    0.001+/-0.008     (-0+/-8)e-14\n",
       "7  -0.0008+/-0.0023   -0.002+/-0.007      (0+/-7)e-14\n",
       "8   0.0004+/-0.0024    0.002+/-0.011  (0.0+/-1.1)e-13\n",
       "9   0.0004+/-0.0022    0.001+/-0.008      (0+/-9)e-14"
      ]
     },
     "execution_count": 10,
     "metadata": {},
     "output_type": "execute_result"
    }
   ],
   "source": [
    "data[[\"F3 vegas reldiff\", \"F3 vegas absdiff\", \"F3 nquad absdiff\"]]\n"
   ]
  },
  {
   "cell_type": "code",
   "execution_count": 11,
   "metadata": {},
   "outputs": [
    {
     "data": {
      "text/html": [
       "<div>\n",
       "<style scoped>\n",
       "    .dataframe tbody tr th:only-of-type {\n",
       "        vertical-align: middle;\n",
       "    }\n",
       "\n",
       "    .dataframe tbody tr th {\n",
       "        vertical-align: top;\n",
       "    }\n",
       "\n",
       "    .dataframe thead th {\n",
       "        text-align: right;\n",
       "    }\n",
       "</style>\n",
       "<table border=\"1\" class=\"dataframe\">\n",
       "  <thead>\n",
       "    <tr style=\"text-align: right;\">\n",
       "      <th></th>\n",
       "      <th>F4 vegas reldiff</th>\n",
       "      <th>F4 vegas absdiff</th>\n",
       "      <th>F4 nquad absdiff</th>\n",
       "    </tr>\n",
       "  </thead>\n",
       "  <tbody>\n",
       "    <tr>\n",
       "      <th>0</th>\n",
       "      <td>-0.001+/-0.007</td>\n",
       "      <td>-0.01+/-0.07</td>\n",
       "      <td>(0+/-5)e-13</td>\n",
       "    </tr>\n",
       "    <tr>\n",
       "      <th>1</th>\n",
       "      <td>0.006+/-0.006</td>\n",
       "      <td>0.08+/-0.08</td>\n",
       "      <td>(0+/-6)e-13</td>\n",
       "    </tr>\n",
       "    <tr>\n",
       "      <th>2</th>\n",
       "      <td>-0.011+/-0.007</td>\n",
       "      <td>-0.07+/-0.04</td>\n",
       "      <td>(-0.0+/-3.1)e-13</td>\n",
       "    </tr>\n",
       "    <tr>\n",
       "      <th>3</th>\n",
       "      <td>0.000+/-0.007</td>\n",
       "      <td>0.002+/-0.028</td>\n",
       "      <td>(0.0+/-2.2)e-13</td>\n",
       "    </tr>\n",
       "    <tr>\n",
       "      <th>4</th>\n",
       "      <td>0.011+/-0.006</td>\n",
       "      <td>0.07+/-0.04</td>\n",
       "      <td>(-0.1+/-3.3)e-13</td>\n",
       "    </tr>\n",
       "    <tr>\n",
       "      <th>5</th>\n",
       "      <td>-0.003+/-0.007</td>\n",
       "      <td>-0.03+/-0.06</td>\n",
       "      <td>(0+/-4)e-13</td>\n",
       "    </tr>\n",
       "    <tr>\n",
       "      <th>6</th>\n",
       "      <td>-0.004+/-0.006</td>\n",
       "      <td>-0.04+/-0.06</td>\n",
       "      <td>(0+/-5)e-13</td>\n",
       "    </tr>\n",
       "    <tr>\n",
       "      <th>7</th>\n",
       "      <td>0.011+/-0.006</td>\n",
       "      <td>0.08+/-0.04</td>\n",
       "      <td>(0+/-4)e-13</td>\n",
       "    </tr>\n",
       "    <tr>\n",
       "      <th>8</th>\n",
       "      <td>-0.004+/-0.007</td>\n",
       "      <td>-0.04+/-0.08</td>\n",
       "      <td>(-0+/-6)e-13</td>\n",
       "    </tr>\n",
       "    <tr>\n",
       "      <th>9</th>\n",
       "      <td>0.008+/-0.007</td>\n",
       "      <td>0.08+/-0.06</td>\n",
       "      <td>(0+/-5)e-13</td>\n",
       "    </tr>\n",
       "  </tbody>\n",
       "</table>\n",
       "</div>"
      ],
      "text/plain": [
       "  F4 vegas reldiff F4 vegas absdiff  F4 nquad absdiff\n",
       "0   -0.001+/-0.007     -0.01+/-0.07       (0+/-5)e-13\n",
       "1    0.006+/-0.006      0.08+/-0.08       (0+/-6)e-13\n",
       "2   -0.011+/-0.007     -0.07+/-0.04  (-0.0+/-3.1)e-13\n",
       "3    0.000+/-0.007    0.002+/-0.028   (0.0+/-2.2)e-13\n",
       "4    0.011+/-0.006      0.07+/-0.04  (-0.1+/-3.3)e-13\n",
       "5   -0.003+/-0.007     -0.03+/-0.06       (0+/-4)e-13\n",
       "6   -0.004+/-0.006     -0.04+/-0.06       (0+/-5)e-13\n",
       "7    0.011+/-0.006      0.08+/-0.04       (0+/-4)e-13\n",
       "8   -0.004+/-0.007     -0.04+/-0.08      (-0+/-6)e-13\n",
       "9    0.008+/-0.007      0.08+/-0.06       (0+/-5)e-13"
      ]
     },
     "execution_count": 11,
     "metadata": {},
     "output_type": "execute_result"
    }
   ],
   "source": [
    "data[[\"F4 vegas reldiff\", \"F4 vegas absdiff\", \"F4 nquad absdiff\"]]\n"
   ]
  },
  {
   "cell_type": "markdown",
   "metadata": {},
   "source": [
    "### Test CDM and FDM 1-loop corrections to power spectrum\n"
   ]
  },
  {
   "cell_type": "code",
   "execution_count": 1,
   "metadata": {},
   "outputs": [
    {
     "name": "stdout",
     "output_type": "stream",
     "text": [
      "Do not compute initial spectrum using CAMB\n"
     ]
    },
    {
     "name": "stderr",
     "output_type": "stream",
     "text": [
      "/home/xerox/Documents/Masterarbeit/PT_Python/sample/cdm/p1l.py:86: NumbaExperimentalFeatureWarning: \u001b[1m\u001b[1mFirst-class function type feature is experimental\u001b[0m\u001b[0m\n",
      "  return det*mc.P1L_vegas_integrand(P, cdm.coupling.F2s, cdm.coupling.F3s, ctheta, r, *args)\n",
      "/home/xerox/anaconda3/lib/python3.8/site-packages/numba/core/utils.py:451: NumbaExperimentalFeatureWarning: \u001b[1mFirst-class function type feature is experimental\u001b[0m\n",
      "  warnings.warn(\"First-class function type feature is experimental\",\n"
     ]
    },
    {
     "ename": "AttributeError",
     "evalue": "'RAvg' object has no attribute 'nominal_value'",
     "output_type": "error",
     "traceback": [
      "\u001b[0;31m---------------------------------------------------------------------------\u001b[0m",
      "\u001b[0;31mAttributeError\u001b[0m                            Traceback (most recent call last)",
      "\u001b[0;32m<ipython-input-1-5ef63b5f3c65>\u001b[0m in \u001b[0;36m<module>\u001b[0;34m\u001b[0m\n\u001b[1;32m     11\u001b[0m \u001b[0mm1\u001b[0m \u001b[0;34m=\u001b[0m \u001b[0mcdm\u001b[0m\u001b[0;34m.\u001b[0m\u001b[0mp1l\u001b[0m\u001b[0;34m.\u001b[0m\u001b[0mvegas_integrators\u001b[0m\u001b[0;34m[\u001b[0m\u001b[0;34m\"CDM IC\"\u001b[0m\u001b[0;34m]\u001b[0m\u001b[0;34m.\u001b[0m\u001b[0mget_result\u001b[0m\u001b[0;34m(\u001b[0m\u001b[0;36m.0001\u001b[0m\u001b[0;34m,\u001b[0m \u001b[0;36m0.5\u001b[0m\u001b[0;34m)\u001b[0m\u001b[0;34m\u001b[0m\u001b[0;34m\u001b[0m\u001b[0m\n\u001b[1;32m     12\u001b[0m \u001b[0;34m\u001b[0m\u001b[0m\n\u001b[0;32m---> 13\u001b[0;31m assert np.isclose(m1.nominal_value, -3.0084982249489873e-09,\n\u001b[0m\u001b[1;32m     14\u001b[0m                   atol=3.0315993212292707e-09)\n",
      "\u001b[0;31mAttributeError\u001b[0m: 'RAvg' object has no attribute 'nominal_value'"
     ]
    }
   ],
   "source": [
    "import cdm.p1l\n",
    "import constants as c\n",
    "import numpy as np\n",
    "\n",
    "# Check NQUAD integration\n",
    "r1 = cdm.p1l.nquad_integrators[\"CDM IC\"](.0001, 0.5)\n",
    "\n",
    "assert np.isclose(r1.nominal_value, -3.0084982249489873e-09, atol=3.0315993212292707e-09)\n",
    "\n",
    "# Check MC integration\n",
    "m1 = cdm.p1l.vegas_integrators[\"CDM IC\"].get_result(.0001, 0.5)\n",
    "\n",
    "assert np.isclose(m1.nominal_value, -3.0084982249489873e-09,\n",
    "                  atol=3.0315993212292707e-09)\n"
   ]
  },
  {
   "cell_type": "markdown",
   "metadata": {},
   "source": [
    "The following values were obtained using the full $\\Omega_m = 1$ FDM machinery for $\\eta = 0.5$ which corresponds to $z = 5$ and $m = 1e-23$ with the fit to the CAMB initial spectrum at $z = 99$.\n"
   ]
  },
  {
   "cell_type": "code",
   "execution_count": null,
   "metadata": {},
   "outputs": [
    {
     "name": "stdout",
     "output_type": "stream",
     "text": [
      "Do not compute initial spectrum using CAMB\n",
      "F2:  (1.736374067165429e-12, 3.1195371836497907e-12)\n",
      "H3:  (-2.568891177427374e-13, 2.5466785035208e-13)\n",
      "F3:  (-2.0606921106071695e-09, 2.1181435433667412e-09)\n",
      "F2:  (1.508603029853474e-07, 2.710326322053921e-07)\n",
      "H3:  (-8.75075836592023e-10, 9.163921513473455e-10)\n",
      "F3:  (-0.00019213855652800978, 8.487815518991559e-06)\n"
     ]
    }
   ],
   "source": [
    "import fdm.p1l\n",
    "import constants as c\n",
    "import numpy as np\n",
    "# The following values are obtained using the full $\\Omega_m = 1$ FDM machinery for $\\eta = 0.5$ which corresponds to $z = 5$ and $m = 1e-23$ with the fit to the CAMB initial spectrum at $z = 99$.\n",
    "m = 1e-23\n",
    "eta_fin_1 = 0.5\n",
    "eta_fin_2 = 2\n",
    "k = 1e-4\n",
    "\n",
    "r1 = fdm.p1l.nquad_integrators[\"CDM IC\"](k, eta_fin_1, m)\n",
    "assert np.isclose(r1.nominal_value, -2.0592123111943195e-09, atol=3 * 2.118143215222352e-09)\n",
    "\n",
    "r1 = fdm.p1l.nquad_integrators[\"CDM IC\"](k, eta_fin_2, m)\n",
    "assert np.isclose(r1.nominal_value, -0.00019198854219941593, atol=3 * 8.492158628595793e-06)\n"
   ]
  },
  {
   "cell_type": "markdown",
   "metadata": {},
   "source": [
    "#### Check VEGAS integration\n"
   ]
  },
  {
   "cell_type": "code",
   "execution_count": null,
   "metadata": {},
   "outputs": [
    {
     "name": "stderr",
     "output_type": "stream",
     "text": [
      "/home/xerox/Documents/Masterarbeit/PT_Python/sample/fdm/p1l.py:129: NumbaExperimentalFeatureWarning: \u001b[1m\u001b[1mFirst-class function type feature is experimental\u001b[0m\u001b[0m\n",
      "  return det * mc.P1L_vegas_integrand(P, fdm.coupling.F2si, fdm.coupling.F3si, ctheta, k1, s, s2, *args)\n",
      "/home/xerox/anaconda3/lib/python3.8/site-packages/numba/core/utils.py:451: NumbaExperimentalFeatureWarning: \u001b[1mFirst-class function type feature is experimental\u001b[0m\n",
      "  warnings.warn(\"First-class function type feature is experimental\",\n"
     ]
    },
    {
     "name": "stdout",
     "output_type": "stream",
     "text": [
      "-1.961(43)e-09\n"
     ]
    },
    {
     "name": "stderr",
     "output_type": "stream",
     "text": [
      "/home/xerox/Documents/Masterarbeit/PT_Python/sample/fdm/p1l.py:129: NumbaExperimentalFeatureWarning: \u001b[1m\u001b[1mFirst-class function type feature is experimental\u001b[0m\u001b[0m\n",
      "  return det * mc.P1L_vegas_integrand(P, fdm.coupling.F2si, fdm.coupling.F3si, ctheta, k1, s, s2, *args)\n",
      "/home/xerox/anaconda3/lib/python3.8/site-packages/numba/core/utils.py:451: NumbaExperimentalFeatureWarning: \u001b[1mFirst-class function type feature is experimental\u001b[0m\n",
      "  warnings.warn(\"First-class function type feature is experimental\",\n"
     ]
    },
    {
     "name": "stdout",
     "output_type": "stream",
     "text": [
      "-8.93(15)e-06\n"
     ]
    }
   ],
   "source": [
    "import fdm.p1l\n",
    "import constants as c\n",
    "import numpy as np\n",
    "\n",
    "m = 1e-23\n",
    "eta_fin_1 = 0.5\n",
    "eta_fin_2 = 2\n",
    "k = 1e-4\n",
    "\n",
    "p1 = fdm.p1l.vegas_integrators[\"CDM IC\"](k, eta_fin_1, m)\n",
    "print(p1)\n",
    "assert np.isclose(p1.nominal_value, -2.0592123111943195e-09,\n",
    "                  atol=3 * 2.118143215222352e-09)\n",
    "\n",
    "#F2:  (0.04531145459720617, 0.004821463175583813)\n",
    "#H3:  (-3.947062214515734e-06, 3.910256850978202e-06)\n",
    "#F3:  (-0.04141334592118671, 0.006832090284466922)\n",
    "p2 = fdm.p1l.vegas_integrators[\"CDM IC\"](k, eta_fin_2, m)\n",
    "print(p2)\n",
    "assert np.isclose(p2.nominal_value, 0.0038941616138049445, atol=3*0.008362055973187855)\n"
   ]
  },
  {
   "cell_type": "code",
   "execution_count": null,
   "metadata": {},
   "outputs": [
    {
     "name": "stdout",
     "output_type": "stream",
     "text": [
      "-44.53(94)\n"
     ]
    }
   ],
   "source": [
    "p3 = fdm.p1l.vegas_integrators[\"Scale-free\"](.1, .5, 1e-23)\n",
    "print(p3)\n",
    "assert np.isclose(p3.nominal_value, -37.72, atol=9)\n"
   ]
  },
  {
   "cell_type": "markdown",
   "metadata": {},
   "source": [
    "### Compare different FDM modes\n"
   ]
  },
  {
   "cell_type": "code",
   "execution_count": null,
   "metadata": {},
   "outputs": [],
   "source": [
    "# The following values were obtained using the full $\\Omega_m = 1$ suppressed CDM machinery for $\\eta = 0.5$ which corresponds to $z = 5$ and $m = 1e-23$ with the fit to the CAMB initial spectrum at $z = 99$.\n",
    "\n",
    "eta = eta_from_z(5)\n",
    "r1, r2 = FDM_P1L(.0001, eta, m)\n",
    "\n",
    "r1, r2 = FDM_P1L(.0001, eta_from_a(1), m)\n",
    "\n",
    "fdm_P1L.get_result(.0001, eta, 1e-23)\n",
    "\n",
    "fdm_P1L_sc.get_result(.1, eta, 1e-23)"
   ]
  },
  {
   "cell_type": "code",
   "execution_count": null,
   "metadata": {},
   "outputs": [],
   "source": [
    "# The following values were obtained using only the suppressed CDM growth function and its derivative at $z = 5$ and $m = 1e-23$ with the fit to the CAMB initial spectrum at $z = 99$.\n",
    "\n",
    "eta = eta_from_z(5)\n",
    "r1, r2 = FDM_P1L(.0001, eta, m)\n",
    "\n",
    "r1, r2 = FDM_P1L(.0001, eta_from_a(1), m)\n",
    "\n",
    "fdm_P1L.get_result(.0001, eta, 1e-23)\n",
    "\n",
    "fdm_P1L_sc.get_result(.1, eta, 1e-23)"
   ]
  },
  {
   "cell_type": "markdown",
   "metadata": {},
   "source": [
    "The following code is for timing the different approaches."
   ]
  },
  {
   "cell_type": "code",
   "execution_count": null,
   "metadata": {},
   "outputs": [],
   "source": [
    "% % timeit\n",
    "CDM_P1L(.0001, eta)"
   ]
  },
  {
   "cell_type": "code",
   "execution_count": null,
   "metadata": {},
   "outputs": [],
   "source": [
    "% % timeit\n",
    "FDM_P1L(.0001, eta, m)"
   ]
  },
  {
   "cell_type": "code",
   "execution_count": null,
   "metadata": {},
   "outputs": [],
   "source": [
    "% % timeit\n",
    "cdm_P1L.get_result(.0001, eta)"
   ]
  },
  {
   "cell_type": "markdown",
   "metadata": {},
   "source": [
    "### Compare with safe CDM results with CDM_P1L (IR-safe integrand) and P_Makino (from analytical expressions)\n"
   ]
  },
  {
   "cell_type": "code",
   "execution_count": 1,
   "metadata": {},
   "outputs": [
    {
     "name": "stdout",
     "output_type": "stream",
     "text": [
      "Do not compute initial spectrum using CAMB\n",
      "Complete 1-Loop correction at eta = 0.816496580927726 and k = 0.1\n",
      "CDM_P1L:  0.228+/-0.027\n",
      "CDM_X F2 and F3:  3.182+/-0.025 -2.954+/-0.011\n",
      "CDM_X full correction:  0.228+/-0.027\n",
      "Makino F2 and F3:  3.1820+/-0.0025 -2.9539287+/-0.0000032\n",
      "Makino full correction:  0.2280+/-0.0025\n"
     ]
    },
    {
     "name": "stderr",
     "output_type": "stream",
     "text": [
      "/home/xerox/anaconda3/lib/python3.8/site-packages/scipy/integrate/quadpack.py:879: IntegrationWarning: The integral is probably divergent, or slowly convergent.\n",
      "  quad_r = quad(f, low, high, args=args, full_output=self.full_output,\n"
     ]
    }
   ],
   "source": [
    "import scipy.integrate as integrate\n",
    "import cdm.p1l\n",
    "import cdm.spectrum\n",
    "import constants\n",
    "from uncertainties import ufloat\n",
    "import numpy as np \n",
    "\n",
    "def F2s_Makino(ctheta, r, k, eta):\n",
    "    return 1/98/(2*np.pi)**2*k**3*((3*r + 7*ctheta - 10*ctheta**2*r)/(1+r**2-2*ctheta*r))**2\n",
    "\n",
    "\n",
    "def F3s_Makino(r, k, eta):\n",
    "    return 1/(2*np.pi)**2*k**3/(252*r**3)*(12*r - 158*r**3 + 100*r**5 - 42*r**7 + 3*(r**2 - 1)**3*(7*r**2 + 2)*np.log(np.abs((1 + r)/(1-r))))\n",
    "\n",
    "\n",
    "def P22_Makino(k, eta, P):\n",
    "    def integrand(ctheta, r, k, eta):\n",
    "        return F2s_Makino(ctheta, r, k, eta)*P(r*k, eta)*P(k*np.sqrt(1 + r**2 - 2*ctheta*r), eta)\n",
    "\n",
    "    def r_lim(k, eta):\n",
    "        return [0, np.inf]\n",
    "\n",
    "    def ctheta_lim(r, k, eta):\n",
    "        return [-1, 1]\n",
    "\n",
    "    options = constants.NQUAD_OPTIONS\n",
    "    mean, std = integrate.nquad(integrand, [ctheta_lim, r_lim], opts=[options, options], args=(k, eta, ))\n",
    "    return ufloat(mean, std)\n",
    "\n",
    "def P31_Makino(k, eta, P):\n",
    "    def integrand(r, k, eta):\n",
    "        return F3s_Makino(r, k, eta)*P(k, eta)*P(k*r, eta)\n",
    "\n",
    "    def r_lim(k, eta):\n",
    "        return [1e-10, np.inf]\n",
    "\n",
    "    mean, std = integrate.nquad(integrand, [r_lim], args=(k, eta,))\n",
    "    return ufloat(mean, std)\n",
    "\n",
    "def CDM_X(k, eta, P):\n",
    "    def integrand(ctheta, r, k, eta):\n",
    "        return 2*cdm.p1l.P22i(ctheta, r, k, eta, P)\n",
    "\n",
    "    def r_lim(k, eta):\n",
    "        return [constants.LOWER_RADIAL_CUTOFF, constants.UPPER_RADIAL_CUTOFF]\n",
    "\n",
    "    def ctheta_lim(r, k, eta):\n",
    "        limit = k/(2*r)\n",
    "        return [-1, 1] if limit > 1 else [-1, limit]\n",
    "\n",
    "    options = constants.NQUAD_OPTIONS\n",
    "    mean, std = integrate.nquad(integrand, [ctheta_lim, r_lim], opts=[\n",
    "                           options, options], args=(k, eta, ))\n",
    "    res1 = ufloat(mean, std)\n",
    "    def integrand(ctheta, r, k, eta):\n",
    "        return cdm.p1l.P31i(ctheta, r, k, eta, P)\n",
    "\n",
    "    def r_lim(k, eta):\n",
    "        return [constants.LOWER_RADIAL_CUTOFF, constants.UPPER_RADIAL_CUTOFF]\n",
    "\n",
    "    def ctheta_lim(r, k, eta):\n",
    "        return [-1, 1]\n",
    "\n",
    "    mean, std = integrate.nquad(integrand, [ctheta_lim, r_lim], opts=[\n",
    "                           options, options], args=(k, eta, ))\n",
    "    res2 = ufloat(mean, std)\n",
    "    return res1, res2\n",
    "\n",
    "\n",
    "k = .1\n",
    "eta = constants.ETA_FIN\n",
    "print(\"Complete 1-Loop correction at eta = {} and k = {}\".format(eta, k))\n",
    "P          = cdm.spectrum.P\n",
    "res0       = cdm.p1l.nquad_integrators[\"CDM IC\"](k, eta)\n",
    "res1, res2 = CDM_X(k, eta, P)\n",
    "res_X      = res1 + res2\n",
    "res3       = P22_Makino(k, eta, P)\n",
    "res4       = P31_Makino(k, eta, P)\n",
    "res_Makino = res3 + res4\n",
    "\n",
    "print(\"CDM_P1L: \", res0)\n",
    "print(\"CDM_X F2 and F3: \", res1, res2)\n",
    "print(\"CDM_X full correction: \", res_X)\n",
    "print(\"Makino F2 and F3: \", res3, res4)\n",
    "print(\"Makino full correction: \", res_Makino)\n",
    "\n",
    "assert np.isclose(res_X.nominal_value, res_Makino.nominal_value)\n",
    "assert np.isclose(res_X.nominal_value, res0.nominal_value)\n",
    "assert np.isclose(res0.nominal_value, res_Makino.nominal_value)\n"
   ]
  },
  {
   "cell_type": "markdown",
   "metadata": {},
   "source": [
    "#### Compare timing of different CDM implementations\n"
   ]
  },
  {
   "cell_type": "code",
   "execution_count": 11,
   "metadata": {},
   "outputs": [
    {
     "name": "stdout",
     "output_type": "stream",
     "text": [
      "221 ms ± 6.95 ms per loop (mean ± std. dev. of 7 runs, 1 loop each)\n"
     ]
    }
   ],
   "source": [
    "% % timeit\n",
    "res0 = cdm.p1l.P1L_vegas.get_result(k, eta)\n"
   ]
  },
  {
   "cell_type": "code",
   "execution_count": 12,
   "metadata": {},
   "outputs": [
    {
     "name": "stdout",
     "output_type": "stream",
     "text": [
      "127 ms ± 608 µs per loop (mean ± std. dev. of 7 runs, 10 loops each)\n"
     ]
    }
   ],
   "source": [
    "% % timeit\n",
    "res0 = cdm.p1l.P1L_nquad(k, eta)\n"
   ]
  },
  {
   "cell_type": "code",
   "execution_count": 13,
   "metadata": {},
   "outputs": [
    {
     "name": "stdout",
     "output_type": "stream",
     "text": [
      "319 ms ± 13.1 ms per loop (mean ± std. dev. of 7 runs, 1 loop each)\n"
     ]
    }
   ],
   "source": [
    "% % timeit\n",
    "res1, res2 = CDM_X(k, eta, P)\n"
   ]
  },
  {
   "cell_type": "markdown",
   "metadata": {},
   "source": [
    "### Compare different FDM implementations\n"
   ]
  },
  {
   "cell_type": "code",
   "execution_count": 19,
   "metadata": {},
   "outputs": [
    {
     "name": "stdout",
     "output_type": "stream",
     "text": [
      "Complete 1-Loop correction at eta = 0.5 and k = 0.1\n",
      "FDM_P1L:  2.147(20)\n"
     ]
    }
   ],
   "source": [
    "import fdm.p1l\n",
    "eta = 0.5\n",
    "k = .1\n",
    "m = 1e-23\n",
    "print(\"Complete 1-Loop correction at eta = {} and k = {}\".format(eta, k))\n",
    "res0 = fdm.p1l.P1L_vegas.get_result(k, eta, m)\n",
    "\n",
    "print(\"FDM_P1L: \", res0)\n"
   ]
  },
  {
   "cell_type": "code",
   "execution_count": null,
   "metadata": {},
   "outputs": [],
   "source": [
    "\n",
    "\n",
    "The following code block is Monte carlo integration with the renormalised growth factor.\n",
    "\n",
    "fdm_P1L.get_result(k, eta, m)\n",
    "\n",
    "The following plots compare Scipy and Vegas integration results for the renormalised growth factor and a realistic input spectrum calculated with CAMB. The Scipy integration took 50 minutes vs 50 seconds for the Monte Carlo integration.\n",
    "\n",
    "k = .1\n",
    "print(\"Complete 1-Loop correction at eta = {} and k = {}\".format(eta, k))\n",
    "res0, err0 = FDM_P1L(k, eta, m)\n",
    "print(\"FDM_P1L: \", res0, err0)\n",
    "\n",
    "fdm_P1L.get_result(k, eta, m)\n",
    "\n",
    "The following code lock was computed with higher precision which took around 13 minutes instead of 10.\n",
    "\n",
    "print(\"Complete 1-Loop correction at eta = {} and k = {}\".format(eta, k))\n",
    "res0, err0 = FDM_P1L(k, eta, m)\n",
    "print(\"FDM_P1L: \", res0, err0)\n",
    "\n",
    "print(\"Complete 1-Loop correction at eta = {} and k = {}\".format(eta, k))\n",
    "res0, err0 = FDM_P1L(k, eta, m)\n",
    "print(\"FDM_P1L: \", res0, err0)\n",
    "\n",
    "print(\"Corresponding CDM correction\")\n",
    "CDM_P1L(k, eta)\n",
    "\n",
    "We see that both FDM and CDM corrections at low k below the Jeans scale are comparable both qualitatively and quantitatively.\n",
    "\n",
    "In this code block, we check whether we can recycle the same Monte Carlo integrato for different values of k when they lie close to one another.\n",
    "\n",
    "k_array = np.logspace(-4, 2, 20)\n",
    "\n",
    "\n",
    "# Integrate phi from 0 to 2*pi, cos(theta) from -1 to 1 and r from 0 to infinity (variable transformation)\n",
    "integ = vegas.Integrator([[-1, 1], [eta_in, eta], [eta_in, eta], [0, 1]])\n",
    "\n",
    "integrand = make_FDM_P1L_vegas_integrand(k_array[-1], eta, FDM_P)\n",
    "\n",
    "# step 1 -- adapt to f; discard results\n",
    "integ(integrand, nitn=10, neval=1e4)\n",
    "\n",
    "# step 2 -- integ has adapted to f; keep results\n",
    "result = integ(integrand, nitn=10, neval=1e4)\n",
    "print(result.summary())\n",
    "print('result = %s    Q = %.2f' % (result, result.Q))\n",
    "\n",
    "for k in k_array:\n",
    "    print(\"FDM 1-loop correction for k = {}\".format(k))\n",
    "    integrand = make_FDM_P1L_vegas_integrand(k, eta, FDM_P)\n",
    "\n",
    "    # step 2 -- integ has adapted to f; keep results\n",
    "    result = integ(integrand, nitn=10, neval=1e3)\n",
    "    print(result.summary())\n",
    "    print('result = %s    Q = %.2f' % (result, result.Q))\n",
    "\n",
    "k = 10.\n",
    "print(\"Complete 1-Loop correction at eta = {} and k = {}\".format(eta, k))\n",
    "res0, err0 = FDM_P1L(k, eta)\n",
    "print(\"FDM_P1L: \", res0, err0)\n",
    "\n",
    "FDM_P_testnr3(10., eta)\n",
    "\n",
    "CDM_P1L(10., eta)\n",
    "\n",
    "k = 1.\n",
    "print(\"Complete 1-Loop correction at eta = {} and k = {}\".format(eta, k))\n",
    "res0, err0 = FDM_P1L(k, eta)\n",
    "print(\"FDM_P1L: \", res0, err0)\n",
    "\n",
    "CDM_P1L(1., eta)\n",
    "\n",
    "FDM_P_testnr3(k, eta)\n",
    "\n",
    "k = 10.\n",
    "print(\"Complete 1-Loop correction at eta = {} and k = {}\".format(eta, k))\n",
    "res0, err0 = FDM_P1L(k, eta)\n",
    "print(\"FDM_P1L: \", res0, err0)\n",
    "\n",
    "CDM_P1L(10., eta)\n",
    "\n",
    "FDM_P_testnr3(k, eta)\n",
    "\n",
    "% % time\n",
    "res0, err0 = FDM_P1L(k, eta)\n",
    "\n",
    "% % time\n",
    "res0, err0 = FDM_P1L(10.0, eta)\n",
    "\n",
    "% % time\n",
    "FDM_P_testnr3(k, eta)\n",
    "\n",
    "% % time\n",
    "res2, err2 = FDM_Pombined(k, eta)\n",
    "\n",
    "New test with higher absolute accuracy 10e-13\n",
    "\n",
    "% % time\n",
    "res0, err0 = FDM_P1L(k, eta)\n"
   ]
  }
 ],
 "metadata": {
  "interpreter": {
   "hash": "08b1f50251748813e8e4e957e5d4f88f45c66f447650e6e648281d4af27bdb44"
  },
  "kernelspec": {
   "display_name": "Python 3.8.8 64-bit ('base': conda)",
   "language": "python",
   "name": "python3"
  },
  "language_info": {
   "codemirror_mode": {
    "name": "ipython",
    "version": 3
   },
   "file_extension": ".py",
   "mimetype": "text/x-python",
   "name": "python",
   "nbconvert_exporter": "python",
   "pygments_lexer": "ipython3",
   "version": "3.8.8"
  },
  "orig_nbformat": 4
 },
 "nbformat": 4,
 "nbformat_minor": 2
}
