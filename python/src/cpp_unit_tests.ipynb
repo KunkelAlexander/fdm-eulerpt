{
 "cells": [
  {
   "cell_type": "code",
   "execution_count": 10,
   "metadata": {},
   "outputs": [],
   "source": [
    "import numpy as np\n",
    "import constants\n",
    "import uncertainties as uc\n",
    "def setup_tests():\n",
    "      m = 1e-23\n",
    "      k = 0.3\n",
    "      s = 0.2\n",
    "      eta = constants.ETA_FIN\n",
    "      a = constants.a_from_eta(eta)\n",
    "      k1 = np.array([2., 0, 0])\n",
    "      k2 = np.array([2., 1, 0])\n",
    "      k3 = np.array([1., 0, 0])\n",
    "      k4 = np.array([1., 3, 2])\n",
    "\n",
    "      reference = []\n",
    "      results = []\n",
    "      return m, k, s, eta, a, k1, k2, k3, k4, reference, results \n",
    "      \n",
    "def assert_results(results, reference):\n",
    "    for i in range(len(results)):\n",
    "        a, b = uc.nominal_value(results[i]), uc.nominal_value(reference[i])\n",
    "        if not np.isclose(a, b):\n",
    "            print(i, a, b)"
   ]
  },
  {
   "cell_type": "code",
   "execution_count": 9,
   "metadata": {},
   "outputs": [
    {
     "data": {
      "text/plain": [
       "2"
      ]
     },
     "execution_count": 9,
     "metadata": {},
     "output_type": "execute_result"
    }
   ],
   "source": [
    "\n",
    "uncertainties.nominal_value(2)"
   ]
  },
  {
   "cell_type": "code",
   "execution_count": 7,
   "metadata": {},
   "outputs": [
    {
     "ename": "AttributeError",
     "evalue": "module 'uncertainties' has no attribute 'isclose'",
     "output_type": "error",
     "traceback": [
      "\u001b[0;31m---------------------------------------------------------------------------\u001b[0m",
      "\u001b[0;31mAttributeError\u001b[0m                            Traceback (most recent call last)",
      "\u001b[0;32m<ipython-input-7-452add71e455>\u001b[0m in \u001b[0;36m<module>\u001b[0;34m\u001b[0m\n\u001b[1;32m      2\u001b[0m \u001b[0ma\u001b[0m \u001b[0;34m=\u001b[0m \u001b[0mufloat\u001b[0m\u001b[0;34m(\u001b[0m\u001b[0;36m1\u001b[0m\u001b[0;34m,\u001b[0m \u001b[0;36m0.1\u001b[0m\u001b[0;34m)\u001b[0m\u001b[0;34m\u001b[0m\u001b[0;34m\u001b[0m\u001b[0m\n\u001b[1;32m      3\u001b[0m \u001b[0mb\u001b[0m \u001b[0;34m=\u001b[0m \u001b[0mufloat\u001b[0m\u001b[0;34m(\u001b[0m\u001b[0;36m1\u001b[0m\u001b[0;34m,\u001b[0m \u001b[0;36m0.2\u001b[0m\u001b[0;34m)\u001b[0m\u001b[0;34m\u001b[0m\u001b[0;34m\u001b[0m\u001b[0m\n\u001b[0;32m----> 4\u001b[0;31m \u001b[0muncertainties\u001b[0m\u001b[0;34m.\u001b[0m\u001b[0misclose\u001b[0m\u001b[0;34m(\u001b[0m\u001b[0ma\u001b[0m\u001b[0;34m,\u001b[0m \u001b[0mb\u001b[0m\u001b[0;34m)\u001b[0m\u001b[0;34m\u001b[0m\u001b[0;34m\u001b[0m\u001b[0m\n\u001b[0m",
      "\u001b[0;31mAttributeError\u001b[0m: module 'uncertainties' has no attribute 'isclose'"
     ]
    }
   ],
   "source": [
    "import uncertainties\n",
    "a = ufloat(1, 0.1)\n",
    "b = ufloat(1, 0.2)\n",
    "uncertainties.isclose(a, b)"
   ]
  },
  {
   "cell_type": "code",
   "execution_count": 12,
   "metadata": {},
   "outputs": [],
   "source": [
    "import fdm.util\n",
    "import cdm.growth.analytical\n",
    "import fdm.coupling\n",
    "import fdm.couplings.analytical\n",
    "import special_functions\n",
    "import fdm.util\n",
    "import bispectrum \n",
    "\n",
    "m, k, s, eta, a, k1, k2, k3, k4, reference, results = setup_tests()\n",
    "\n",
    "results.append(fdm.util.lague_kj(a, m, omega_dm = 0.3))\n",
    "results.append(special_functions.jv_taylor(2.5, .2))\n",
    "results.append(fdm.util.mbH0(m))\n",
    "results.append(fdm.util.m_bar(m))\n",
    "results.append(cdm.growth.analytical.D(eta))\n",
    "results.append(fdm.couplings.analytical.G(k, s, eta, m))\n",
    "results.append(fdm.couplings.analytical.deta_G(k, s, eta, m))\n",
    "results.append(fdm.couplings.analytical.ds_G(k, s, eta, m))\n",
    "results.append(fdm.couplings.analytical.dseta_G(k, s, eta, m))\n",
    "results.append(fdm.coupling.gamma(k1, k2, k3, eta, m, 0, 0, 0 ))\n",
    "results.append(fdm.coupling.gamma(k1, k2, k3, eta, m, 0, 0, 1 ))\n",
    "results.append(fdm.coupling.gamma(k1, k2, k3, eta, m, 0, 1, 0 ))\n",
    "results.append(fdm.coupling.gamma(k1, k2, k3, eta, m, 0, 1, 1 ))\n",
    "results.append(fdm.coupling.gamma(k1, k2, k3, eta, m, 1, 0, 0 ))\n",
    "results.append(fdm.coupling.gamma(k1, k2, k3, eta, m, 1, 0, 1 ))\n",
    "results.append(fdm.coupling.gamma(k1, k2, k3, eta, m, 1, 1, 0 ))\n",
    "results.append(fdm.coupling.gamma(k1, k2, k3, eta, m, 1, 1, 1 ))\n",
    "results.append(fdm.coupling.W_kernel(k1, k2, k3, s, eta, m, 0)[0, 0])\n",
    "results.append(fdm.coupling.W_kernel(k1, k2, k3, s, eta, m, 0)[0, 1])\n",
    "results.append(fdm.coupling.W_kernel(k1, k2, k3, s, eta, m, 0)[1, 0])\n",
    "results.append(fdm.coupling.W_kernel(k1, k2, k3, s, eta, m, 0)[1, 1])\n",
    "results.append(fdm.coupling.W_kernel(k1, k2, k3, s, eta, m, 1)[0, 0])\n",
    "results.append(fdm.coupling.W_kernel(k1, k2, k3, s, eta, m, 1)[0, 1])\n",
    "results.append(fdm.coupling.W_kernel(k1, k2, k3, s, eta, m, 1)[1, 0])\n",
    "results.append(fdm.coupling.W_kernel(k1, k2, k3, s, eta, m, 1)[1, 1])\n",
    "results.append(fdm.coupling.U_kernel(k1, k2, k3, k4, s, eta, m, 0))\n",
    "results.append(fdm.coupling.U_kernel(k1, k2, k3, k4, s, eta, m, 1))\n",
    "results.append(fdm.coupling.V_kernel(k1 + k2, k1, k2, k3, k4, s, eta, m, 0))\n",
    "results.append(fdm.coupling.V_kernel(k1 + k2, k1, k2, k3, k4, s, eta, m, 1))\n",
    "results.append(fdm.coupling.xi2111(k1 + k2, k1, k2, k3, k4, s, eta, m))\n",
    "results.append(fdm.couplings.analytical.f1(k, s, eta, m))\n",
    "results.append(fdm.couplings.analytical.f2(k, s, eta, m))\n",
    "results.append(fdm.coupling.F2si(k1, k2, s, eta, m))\n",
    "results.append(fdm.coupling.C32i(k1, k2, k3, s,  eta, m))\n",
    "results.append(fdm.coupling.C31i(k1, k2, k3, s, s/2, eta, m))\n",
    "results.append(fdm.coupling.F3si(k1, k2, k3, s, s/2, eta, m))\n",
    "results.append(fdm.coupling.W_kernel(k2*108. + k3*63., k2*108., k3*63., s/2, s, m, 0)[0, 0])\n",
    "\n",
    "\n",
    "#print(FDM_X2(k1, k2, eta, m), \",\", FDM_F2_c(k2*108. + k3*63., k2*108.,eta, m), \",\", FDM_F2_c(k3*2. + k1*2., k1,eta, m))\n",
    "\n",
    "k1, k2, k3 = bispectrum.generate_triangle()\n",
    "\n",
    "\n",
    "def P(k, *args):\n",
    "      eta = args[0]\n",
    "      return np.linalg.norm(k)**(-2)\n",
    "\n",
    "def P1L(k, *args):\n",
    "      return 0 \n",
    "\n",
    "\n",
    "b_utils    = bispectrum.make_tree_bispectrum_utilities(P, fdm.coupling.F2s, P1L)\n",
    "\n",
    "results.append(b_utils[\"red. bispectrum tree\"](k1, k2, k3, eta, m))\n",
    "\n",
    "\n",
    "k1 = np.array([2., 0, 0])\n",
    "k2 = np.array([2., 1, 0])\n",
    "k3 = np.array([1., 0, 0])\n",
    "k4 = np.array([1., 3, 2])\n",
    "\n",
    "results.append(fdm.coupling.C41si(k1, k2*2, k3, k4*3, 0.5,           eta, m))\n",
    "results.append(fdm.coupling.C42si(k1, k2*2, k3, k4*3, 0.5, 0.4,      eta, m))\n",
    "results.append(fdm.coupling.C43si(k1, k2*2, k3, k4*3, 0.5, 0.4, 0.3, eta, m))\n",
    "results.append(fdm.coupling.C45si(k1, k2*2, k3, k4*3, 0.5, 0.4, 0.3, eta, m))\n",
    "results.append(fdm.coupling.C44si(k1, k2*2, k3, k4*3, 0.5, 0.4,      eta, m))\n",
    "results.append(fdm.coupling.F4si(k1, k2*2, k3, k4*3, 0.5, 0.4, 0.3, eta, m))\n",
    "\n",
    "reference.append(13.932315199971079)\n",
    "reference.append(134.71029139011478)\n",
    "reference.append(194.27461954077)\n",
    "reference.append(1.519267447e-08)\n",
    "reference.append(16.66666666666666)\n",
    "reference.append(0.6660779081951637)\n",
    "reference.append(1.6351506659730073)\n",
    "reference.append(-3.3450762900393523)\n",
    "reference.append(-8.121728189494757)\n",
    "reference.append(0.0)\n",
    "reference.append(-1.0)\n",
    "reference.append(-0.4)\n",
    "reference.append(0.0)\n",
    "reference.append(-0.0023845716435636852)\n",
    "reference.append(0.0)\n",
    "reference.append(0.0)\n",
    "reference.append(-0.8)\n",
    "reference.append(0.44004642032418445)\n",
    "reference.append(-9.959713840257418)\n",
    "reference.append(-3.9838855361029677)\n",
    "reference.append(0.5314722641923445)\n",
    "reference.append(-1.0798324418145517)\n",
    "reference.append(24.34988392197223)\n",
    "reference.append(9.739953568788891)\n",
    "reference.append(-1.3041828459296)\n",
    "reference.append(-0.003379556508089739)\n",
    "reference.append(0.008293113153135762)\n",
    "reference.append(0.01633446474049803)\n",
    "reference.append(-0.03980574192924423)\n",
    "reference.append(-0.025716114818557123)\n",
    "reference.append(0.06000020173586505)\n",
    "reference.append(-0.5999998712216029)\n",
    "reference.append(1.0390108220201149)\n",
    "reference.append(-4.869485703605372e-06)\n",
    "reference.append(1.2773458809781826)\n",
    "reference.append(1.3411790054403123)\n",
    "reference.append(39065.65995352095)\n",
    "reference.append(0.5474816027542845)\n",
    "reference.append(0.011100196503938153)\n",
    "reference.append(-0.3429504082278544)\n",
    "reference.append(2.423906139025725)\n",
    "reference.append(10.039466933075015)\n",
    "reference.append(-0.16716997032367772)\n",
    "reference.append(11.665128428093935)\n",
    "\n",
    "assert_results(results, reference)"
   ]
  },
  {
   "cell_type": "code",
   "execution_count": null,
   "metadata": {},
   "outputs": [],
   "source": [
    "import fdm.spectrum\n",
    "import fdm.bispectrum\n",
    "import fdm.p1l \n",
    "import bispectrum \n",
    "\n",
    "m, k, s, eta, a, k1, k2, k3, k4, reference, results = setup_tests()\n",
    "            \n",
    "k1, k2, k3 = bispectrum.generate_triangle()\n",
    "q = 2*k1\n",
    "results.append(fdm.bispectrum.B222(q, k1, k2, k3, 0.5, 0.5, 0.5, eta, m,  fdm.spectrum.P_sc))\n",
    "results.append(fdm.bispectrum.B3211(q, k1, k2, k3, 0.5, 0.5, 0.5, eta, m, fdm.spectrum.P_sc))\n",
    "results.append(fdm.bispectrum.B3212(q, k1, k2, k3, 0.5, 0.5, 0.5, eta, m, fdm.spectrum.P_sc))\n",
    "results.append(fdm.bispectrum.B411(q, k1, k2, k3, 0.5, 0.5, 0.5, eta, m,  fdm.spectrum.P_sc))\n",
    "results.append(fdm.spectrum.P_CDM_IC(0.3, eta, m))\n",
    "k1, k2, k3 = bispectrum.generate_triangle()\n",
    "fdm_b1l    = fdm.bispectrum.vegas_integrators[\"CDM IC\"]\n",
    "results.append(fdm_b1l(k1, k2, k3, eta, m))\n",
    "\n",
    "reference.append(31.30356137271131)\n",
    "reference.append(16.308895511263515)\n",
    "reference.append(-534.144993522024)\n",
    "reference.append(791.2030301855106)\n",
    "reference.append(42.22301424537688)\n",
    "reference.append(18.92)\n",
    "\n",
    "assert_results(results, reference)"
   ]
  },
  {
   "cell_type": "code",
   "execution_count": null,
   "metadata": {},
   "outputs": [
    {
     "name": "stdout",
     "output_type": "stream",
     "text": [
      "Do not compute initial spectrum using CAMB\n"
     ]
    },
    {
     "name": "stderr",
     "output_type": "stream",
     "text": [
      "/home/xerox/Documents/Masterarbeit/PT_Python/sample/fdm/p1l.py:129: NumbaExperimentalFeatureWarning: \u001b[1m\u001b[1mFirst-class function type feature is experimental\u001b[0m\u001b[0m\n",
      "  return det * mc.P1L_vegas_integrand(P, fdm.coupling.F2si, fdm.coupling.F3si, ctheta, k1, s, s2, *args)\n",
      "/home/xerox/anaconda3/lib/python3.8/site-packages/numba/core/utils.py:451: NumbaExperimentalFeatureWarning: \u001b[1mFirst-class function type feature is experimental\u001b[0m\n",
      "  warnings.warn(\"First-class function type feature is experimental\",\n"
     ]
    },
    {
     "data": {
      "text/plain": [
       "{'x': 0,\n",
       " 'sigma tree': 3.824091279421135,\n",
       " 'sigma loop': 1.015212717426095+/-0.003547964173953593,\n",
       " 'red. bispectrum tree': 4.08507105024963+/-3.0504365760795184e-14,\n",
       " 'bispectrum loop': 30.057985071751343+/-2.42720953236692,\n",
       " 'red. bispectrum': 6.775666974631144+/-0.6347266913797339}"
      ]
     },
     "execution_count": 5,
     "metadata": {},
     "output_type": "execute_result"
    }
   ],
   "source": [
    "import fdm.bispectrum \n",
    "import bispectrum\n",
    "m, k, s, eta, a, k1, k2, k3, k4, reference, results = setup_tests()\n",
    "            \n",
    "bispectrum_util = fdm.bispectrum.utils[\"CDM IC\"]\n",
    "bispectrum_integrator = fdm.bispectrum.vegas_integrators[\"CDM IC\"]\n",
    "bispectrum.compute_bispectrum(0, k1, k2, k3, eta, m, bispectrum_util, bispectrum_integrator, debug=False)"
   ]
  },
  {
   "cell_type": "markdown",
   "metadata": {},
   "source": [
    "0.3175757583786859 0.009761879084991088"
   ]
  }
 ],
 "metadata": {
  "interpreter": {
   "hash": "08b1f50251748813e8e4e957e5d4f88f45c66f447650e6e648281d4af27bdb44"
  },
  "kernelspec": {
   "display_name": "Python 3.8.8 64-bit ('base': conda)",
   "language": "python",
   "name": "python3"
  },
  "language_info": {
   "codemirror_mode": {
    "name": "ipython",
    "version": 3
   },
   "file_extension": ".py",
   "mimetype": "text/x-python",
   "name": "python",
   "nbconvert_exporter": "python",
   "pygments_lexer": "ipython3",
   "version": "3.8.8"
  },
  "orig_nbformat": 4
 },
 "nbformat": 4,
 "nbformat_minor": 2
}
